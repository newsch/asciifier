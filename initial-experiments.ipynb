{
 "cells": [
  {
   "cell_type": "code",
   "execution_count": 40,
   "metadata": {},
   "outputs": [],
   "source": [
    "import numpy as np\n",
    "from scipy import ndimage\n",
    "import matplotlib.pyplot as plt\n",
    "import math"
   ]
  },
  {
   "cell_type": "code",
   "execution_count": 22,
   "metadata": {},
   "outputs": [],
   "source": [
    "from PIL import Image\n",
    "im = Image.open('courier-calibration.png')\n",
    "a = np.asarray(im)"
   ]
  },
  {
   "cell_type": "code",
   "execution_count": 23,
   "metadata": {},
   "outputs": [
    {
     "data": {
      "text/plain": [
       "(671, 401, 4)"
      ]
     },
     "execution_count": 23,
     "metadata": {},
     "output_type": "execute_result"
    }
   ],
   "source": [
    "np.shape(a)"
   ]
  },
  {
   "cell_type": "code",
   "execution_count": 25,
   "metadata": {},
   "outputs": [
    {
     "data": {
      "text/plain": [
       "255"
      ]
     },
     "execution_count": 25,
     "metadata": {},
     "output_type": "execute_result"
    }
   ],
   "source": [
    "# a includes an alpha channel, let's make sure that's the 4th - it should have a minimum of 255\n",
    "np.min(a[:,:,3])"
   ]
  },
  {
   "cell_type": "code",
   "execution_count": 26,
   "metadata": {},
   "outputs": [],
   "source": [
    "a_array = np.split(a, [10, 10, 1])"
   ]
  },
  {
   "cell_type": "code",
   "execution_count": 30,
   "metadata": {},
   "outputs": [
    {
     "data": {
      "text/plain": [
       "(0, 401, 4)"
      ]
     },
     "execution_count": 30,
     "metadata": {},
     "output_type": "execute_result"
    }
   ],
   "source": [
    "np.shape(a_array[1])"
   ]
  },
  {
   "cell_type": "code",
   "execution_count": 66,
   "metadata": {},
   "outputs": [],
   "source": [
    "h, w, d = np.shape(a)\n",
    "avg_h = h / 10\n",
    "avg_w = w / 10\n",
    "\n",
    "foo = []\n",
    "h_ind = lambda a: math.floor(a*avg_h)\n",
    "w_ind = lambda a: math.floor(a*avg_w)\n",
    "# array index is height, width\n",
    "for hn, hs in enumerate(range(10), 1):\n",
    "    for wn, ws in enumerate(range(10), 1):\n",
    "        foo.append(a[h_ind(hs):h_ind(hn),w_ind(ws):w_ind(wn), 0:3])"
   ]
  },
  {
   "cell_type": "code",
   "execution_count": 70,
   "metadata": {},
   "outputs": [],
   "source": [
    "avg_b = []\n",
    "gs = lambda a: np.mean(a, axis=2)\n",
    "for p in foo:\n",
    "    avg_b.append(np.mean(gs(p)))"
   ]
  },
  {
   "cell_type": "code",
   "execution_count": 67,
   "metadata": {},
   "outputs": [
    {
     "data": {
      "text/plain": [
       "(67, 40)"
      ]
     },
     "execution_count": 67,
     "metadata": {},
     "output_type": "execute_result"
    }
   ],
   "source": [
    "np.shape(gs(foo[0]))"
   ]
  },
  {
   "cell_type": "code",
   "execution_count": 68,
   "metadata": {},
   "outputs": [
    {
     "data": {
      "text/plain": [
       "100"
      ]
     },
     "execution_count": 68,
     "metadata": {},
     "output_type": "execute_result"
    }
   ],
   "source": [
    "len(foo)"
   ]
  },
  {
   "cell_type": "code",
   "execution_count": 73,
   "metadata": {},
   "outputs": [
    {
     "data": {
      "text/plain": [
       "223.51865671641792"
      ]
     },
     "execution_count": 73,
     "metadata": {},
     "output_type": "execute_result"
    }
   ],
   "source": [
    "min(avg_b)"
   ]
  },
  {
   "cell_type": "code",
   "execution_count": 74,
   "metadata": {},
   "outputs": [
    {
     "data": {
      "text/plain": [
       "246.25011956001913"
      ]
     },
     "execution_count": 74,
     "metadata": {},
     "output_type": "execute_result"
    }
   ],
   "source": [
    "max(avg_b)"
   ]
  },
  {
   "cell_type": "code",
   "execution_count": 80,
   "metadata": {},
   "outputs": [
    {
     "data": {
      "image/png": "[encoded data removed]",
      "text/plain": [
       "<Figure size 432x288 with 1 Axes>"
      ]
     },
     "metadata": {
      "needs_background": "light"
     },
     "output_type": "display_data"
    }
   ],
   "source": [
    "plt.hist(avg_b, bins=len(avg_b))\n",
    "plt.show()"
   ]
  },
  {
   "cell_type": "markdown",
   "metadata": {},
   "source": [
    "now to connect the brightnesses to the characters..."
   ]
  },
  {
   "cell_type": "code",
   "execution_count": 83,
   "metadata": {},
   "outputs": [
    {
     "name": "stdout",
     "output_type": "stream",
     "text": [
      "The autoreload extension is already loaded. To reload it, use:\n",
      "  %reload_ext autoreload\n"
     ]
    }
   ],
   "source": [
    "%load_ext autoreload\n",
    "%autoreload 1\n",
    "%aimport calibrate"
   ]
  },
  {
   "cell_type": "code",
   "execution_count": 87,
   "metadata": {},
   "outputs": [
    {
     "data": {
      "text/plain": [
       "'0123456789abcdefghijklmnopqrstuvwxyzABCDEFGHIJKLMNOPQRSTUVWXYZ!\"#$%&\\'()*+,-./:;<=>?@[\\\\]^_`{|}~ '"
      ]
     },
     "execution_count": 87,
     "metadata": {},
     "output_type": "execute_result"
    }
   ],
   "source": [
    "calibrate.ASCII"
   ]
  },
  {
   "cell_type": "code",
   "execution_count": 88,
   "metadata": {},
   "outputs": [],
   "source": [
    "charmap = {c: avg_b[i] for i, c in enumerate(calibrate.ASCII)}"
   ]
  },
  {
   "cell_type": "code",
   "execution_count": 89,
   "metadata": {},
   "outputs": [
    {
     "data": {
      "text/plain": [
       "{'0': 230.3832089552239,\n",
       " '1': 233.95932835820895,\n",
       " '2': 232.34825870646765,\n",
       " '3': 232.0286069651741,\n",
       " '4': 229.54440298507464,\n",
       " '5': 230.87910447761195,\n",
       " '6': 230.9886815920398,\n",
       " '7': 234.54664179104478,\n",
       " '8': 228.3422885572139,\n",
       " '9': 231.39691784977552,\n",
       " 'a': 230.51106965174128,\n",
       " 'b': 228.95920398009955,\n",
       " 'c': 234.90796019900495,\n",
       " 'd': 229.21405472636815,\n",
       " 'e': 231.1981343283582,\n",
       " 'f': 232.39203980099506,\n",
       " 'g': 228.89776119402984,\n",
       " 'h': 229.455223880597,\n",
       " 'i': 236.30845771144277,\n",
       " 'j': 234.00533915786917,\n",
       " 'k': 228.81927860696516,\n",
       " 'l': 234.9833333333333,\n",
       " 'm': 228.7333333333333,\n",
       " 'n': 231.1705223880597,\n",
       " 'o': 232.8787313432836,\n",
       " 'p': 228.7955223880597,\n",
       " 'q': 228.0358208955224,\n",
       " 'r': 235.39402985074628,\n",
       " 's': 231.82487562189058,\n",
       " 't': 235.5803907292804,\n",
       " 'u': 232.144776119403,\n",
       " 'v': 234.64092039800994,\n",
       " 'w': 230.4769900497512,\n",
       " 'x': 232.54751243781092,\n",
       " 'y': 231.7410447761194,\n",
       " 'z': 233.6813432835821,\n",
       " 'A': 227.48631840796023,\n",
       " 'B': 225.5002487562189,\n",
       " 'C': 232.5455223880597,\n",
       " 'D': 228.81094527363186,\n",
       " 'E': 225.43233830845773,\n",
       " 'F': 228.5610696517413,\n",
       " 'G': 229.42388059701491,\n",
       " 'H': 225.00136815920396,\n",
       " 'I': 234.44825870646764,\n",
       " 'J': 233.94962686567163,\n",
       " 'K': 227.79004975124374,\n",
       " 'L': 232.16368159203984,\n",
       " 'M': 223.51865671641792,\n",
       " 'N': 225.77211503458318,\n",
       " 'O': 229.9349502487562,\n",
       " 'P': 229.11654228855718,\n",
       " 'Q': 226.3672885572139,\n",
       " 'R': 226.91393034825867,\n",
       " 'S': 229.17350746268656,\n",
       " 'T': 230.35932835820896,\n",
       " 'U': 230.61032338308462,\n",
       " 'V': 231.4800995024876,\n",
       " 'W': 226.232960199005,\n",
       " 'X': 229.2380779031671,\n",
       " 'Y': 230.46305970149254,\n",
       " 'Z': 230.09179104477613,\n",
       " '!': 237.57388059701492,\n",
       " '\"': 236.57325870646767,\n",
       " '#': 224.91119402985075,\n",
       " '$': 228.67201492537313,\n",
       " '%': 227.58905472636815,\n",
       " '&': 232.07325870646764,\n",
       " \"'\": 241.17649253731344,\n",
       " '(': 237.29705132872223,\n",
       " ')': 236.3965174129353,\n",
       " '*': 234.13470149253732,\n",
       " '+': 237.2702736318408,\n",
       " ',': 242.10982587064677,\n",
       " '-': 241.32462686567163,\n",
       " '.': 243.18296019900495,\n",
       " '/': 237.05621890547263,\n",
       " ':': 241.00049751243782,\n",
       " ';': 240.84054726368163,\n",
       " '<': 238.85778424948427,\n",
       " '=': 237.9468905472637,\n",
       " '>': 237.54427860696515,\n",
       " '?': 235.7417910447761,\n",
       " '@': 224.40099502487564,\n",
       " '[': 234.6563432835821,\n",
       " '\\\\': 237.722263681592,\n",
       " ']': 234.75522388059701,\n",
       " '^': 242.3476368159204,\n",
       " '_': 240.1384328358209,\n",
       " '`': 244.4847712656231,\n",
       " '{': 234.97267156862745,\n",
       " '|': 239.4232843137255,\n",
       " '}': 235.12524509803922,\n",
       " '~': 241.62377450980395,\n",
       " ' ': 246.04448529411764}"
      ]
     },
     "execution_count": 89,
     "metadata": {},
     "output_type": "execute_result"
    }
   ],
   "source": [
    "charmap"
   ]
  },
  {
   "cell_type": "code",
   "execution_count": 133,
   "metadata": {},
   "outputs": [],
   "source": [
    "import json"
   ]
  },
  {
   "cell_type": "code",
   "execution_count": 135,
   "metadata": {},
   "outputs": [],
   "source": [
    "with open('courier-charmap.json', 'w') as f:\n",
    "    f.write(json.dumps(charmap))"
   ]
  },
  {
   "cell_type": "code",
   "execution_count": 96,
   "metadata": {},
   "outputs": [
    {
     "data": {
      "text/plain": [
       "['M',\n",
       " '@',\n",
       " '#',\n",
       " 'H',\n",
       " 'E',\n",
       " 'B',\n",
       " 'N',\n",
       " 'W',\n",
       " 'Q',\n",
       " 'R',\n",
       " 'A',\n",
       " '%',\n",
       " 'K',\n",
       " 'q',\n",
       " '8',\n",
       " 'F',\n",
       " '$',\n",
       " 'm',\n",
       " 'p',\n",
       " 'D',\n",
       " 'k',\n",
       " 'g',\n",
       " 'b',\n",
       " 'P',\n",
       " 'S',\n",
       " 'd',\n",
       " 'X',\n",
       " 'G',\n",
       " 'h',\n",
       " '4',\n",
       " 'O',\n",
       " 'Z',\n",
       " 'T',\n",
       " '0',\n",
       " 'Y',\n",
       " 'w',\n",
       " 'a',\n",
       " 'U',\n",
       " '5',\n",
       " '6',\n",
       " 'n',\n",
       " 'e',\n",
       " '9',\n",
       " 'V',\n",
       " 'y',\n",
       " 's',\n",
       " '3',\n",
       " '&',\n",
       " 'u',\n",
       " 'L',\n",
       " '2',\n",
       " 'f',\n",
       " 'C',\n",
       " 'x',\n",
       " 'o',\n",
       " 'z',\n",
       " 'J',\n",
       " '1',\n",
       " 'j',\n",
       " '*',\n",
       " 'I',\n",
       " '7',\n",
       " 'v',\n",
       " '[',\n",
       " ']',\n",
       " 'c',\n",
       " '{',\n",
       " 'l',\n",
       " '}',\n",
       " 'r',\n",
       " 't',\n",
       " '?',\n",
       " 'i',\n",
       " ')',\n",
       " '\"',\n",
       " '/',\n",
       " '+',\n",
       " '(',\n",
       " '>',\n",
       " '!',\n",
       " '\\\\',\n",
       " '=',\n",
       " '<',\n",
       " '|',\n",
       " '_',\n",
       " ';',\n",
       " ':',\n",
       " \"'\",\n",
       " '-',\n",
       " '~',\n",
       " ',',\n",
       " '^',\n",
       " '.',\n",
       " '`',\n",
       " ' ']"
      ]
     },
     "execution_count": 96,
     "metadata": {},
     "output_type": "execute_result"
    }
   ],
   "source": [
    "# sort characters by brightness\n",
    "sort_func = lambda a: charmap[a]\n",
    "sorted_list = list(calibrate.ASCII)\n",
    "sorted_list.sort(key=sort_func)\n",
    "sorted_list"
   ]
  },
  {
   "cell_type": "code",
   "execution_count": 102,
   "metadata": {},
   "outputs": [],
   "source": [
    "show_char = lambda a: plt.imshow(foo[list(calibrate.ASCII).index(a)])"
   ]
  },
  {
   "cell_type": "code",
   "execution_count": 111,
   "metadata": {},
   "outputs": [
    {
     "data": {
      "text/plain": [
       "<matplotlib.image.AxesImage at 0x7fa5fde43cc0>"
      ]
     },
     "execution_count": 111,
     "metadata": {},
     "output_type": "execute_result"
    },
    {
     "data": {
      "image/png": "[encoded data removed]",
      "text/plain": [
       "<Figure size 432x288 with 1 Axes>"
      ]
     },
     "metadata": {
      "needs_background": "light"
     },
     "output_type": "display_data"
    }
   ],
   "source": [
    "show_char('M')"
   ]
  },
  {
   "cell_type": "code",
   "execution_count": 118,
   "metadata": {},
   "outputs": [
    {
     "data": {
      "text/plain": [
       "<matplotlib.image.AxesImage at 0x7fa5faa623c8>"
      ]
     },
     "execution_count": 118,
     "metadata": {},
     "output_type": "execute_result"
    },
    {
     "data": {
      "image/png": "[encoded data removed]",
      "text/plain": [
       "<Figure size 432x288 with 1 Axes>"
      ]
     },
     "metadata": {
      "needs_background": "light"
     },
     "output_type": "display_data"
    }
   ],
   "source": [
    "show_char('i')"
   ]
  },
  {
   "cell_type": "code",
   "execution_count": 121,
   "metadata": {},
   "outputs": [
    {
     "data": {
      "text/plain": [
       "<matplotlib.image.AxesImage at 0x7fa5fa966a90>"
      ]
     },
     "execution_count": 121,
     "metadata": {},
     "output_type": "execute_result"
    },
    {
     "data": {
      "image/png": "[encoded data removed]",
      "text/plain": [
       "<Figure size 432x288 with 1 Axes>"
      ]
     },
     "metadata": {
      "needs_background": "light"
     },
     "output_type": "display_data"
    }
   ],
   "source": [
    "show_char(' ')"
   ]
  },
  {
   "cell_type": "code",
   "execution_count": 143,
   "metadata": {},
   "outputs": [
    {
     "data": {
      "image/png": "[encoded data removed]",
      "text/plain": [
       "<Figure size 432x288 with 1 Axes>"
      ]
     },
     "metadata": {
      "needs_background": "light"
     },
     "output_type": "display_data"
    }
   ],
   "source": [
    "# expand range to fill 0-255\n",
    "scaled_b = np.interp(avg_b, [min(avg_b), max(avg_b)], [0, 255])\n",
    "plt.hist(scaled_b, bins=len(scaled_b))\n",
    "plt.show()"
   ]
  },
  {
   "cell_type": "code",
   "execution_count": 144,
   "metadata": {},
   "outputs": [],
   "source": [
    "# np.sort(scaled_b)"
   ]
  },
  {
   "cell_type": "code",
   "execution_count": 145,
   "metadata": {},
   "outputs": [],
   "source": [
    "scaled_charmap = {c: int(round(scaled_b[i])) for i, c in enumerate(calibrate.ASCII)}\n",
    "with open('courier-scaled-charmap.json', 'w') as f:\n",
    "    f.write(json.dumps(scaled_charmap))"
   ]
  },
  {
   "cell_type": "code",
   "execution_count": 146,
   "metadata": {},
   "outputs": [
    {
     "data": {
      "text/plain": [
       "{'0': 77,\n",
       " '1': 117,\n",
       " '2': 99,\n",
       " '3': 95,\n",
       " '4': 68,\n",
       " '5': 83,\n",
       " '6': 84,\n",
       " '7': 124,\n",
       " '8': 54,\n",
       " '9': 88,\n",
       " 'a': 78,\n",
       " 'b': 61,\n",
       " 'c': 128,\n",
       " 'd': 64,\n",
       " 'e': 86,\n",
       " 'f': 100,\n",
       " 'g': 60,\n",
       " 'h': 67,\n",
       " 'i': 143,\n",
       " 'j': 118,\n",
       " 'k': 59,\n",
       " 'l': 129,\n",
       " 'm': 58,\n",
       " 'n': 86,\n",
       " 'o': 105,\n",
       " 'p': 59,\n",
       " 'q': 51,\n",
       " 'r': 133,\n",
       " 's': 93,\n",
       " 't': 135,\n",
       " 'u': 97,\n",
       " 'v': 125,\n",
       " 'w': 78,\n",
       " 'x': 101,\n",
       " 'y': 92,\n",
       " 'z': 114,\n",
       " 'A': 45,\n",
       " 'B': 22,\n",
       " 'C': 101,\n",
       " 'D': 59,\n",
       " 'E': 21,\n",
       " 'F': 57,\n",
       " 'G': 66,\n",
       " 'H': 17,\n",
       " 'I': 123,\n",
       " 'J': 117,\n",
       " 'K': 48,\n",
       " 'L': 97,\n",
       " 'M': 0,\n",
       " 'N': 25,\n",
       " 'O': 72,\n",
       " 'P': 63,\n",
       " 'Q': 32,\n",
       " 'R': 38,\n",
       " 'S': 63,\n",
       " 'T': 77,\n",
       " 'U': 80,\n",
       " 'V': 89,\n",
       " 'W': 30,\n",
       " 'X': 64,\n",
       " 'Y': 78,\n",
       " 'Z': 74,\n",
       " '!': 158,\n",
       " '\"': 146,\n",
       " '#': 16,\n",
       " '$': 58,\n",
       " '%': 46,\n",
       " '&': 96,\n",
       " \"'\": 198,\n",
       " '(': 155,\n",
       " ')': 144,\n",
       " '*': 119,\n",
       " '+': 154,\n",
       " ',': 209,\n",
       " '-': 200,\n",
       " '.': 221,\n",
       " '/': 152,\n",
       " ':': 196,\n",
       " ';': 194,\n",
       " '<': 172,\n",
       " '=': 162,\n",
       " '>': 157,\n",
       " '?': 137,\n",
       " '@': 10,\n",
       " '[': 125,\n",
       " '\\\\': 159,\n",
       " ']': 126,\n",
       " '^': 211,\n",
       " '_': 186,\n",
       " '`': 235,\n",
       " '{': 128,\n",
       " '|': 178,\n",
       " '}': 130,\n",
       " '~': 203,\n",
       " ' ': 253}"
      ]
     },
     "execution_count": 146,
     "metadata": {},
     "output_type": "execute_result"
    }
   ],
   "source": [
    "scaled_charmap"
   ]
  },
  {
   "cell_type": "code",
   "execution_count": 184,
   "metadata": {},
   "outputs": [],
   "source": [
    "fmap = calibrate.reverse_dict({k: scaled_charmap[k] for k in sorted(scaled_charmap, key=scaled_charmap.get)})"
   ]
  },
  {
   "cell_type": "code",
   "execution_count": 226,
   "metadata": {},
   "outputs": [
    {
     "data": {
      "text/plain": [
       "{0: ['M'],\n",
       " 10: ['@'],\n",
       " 16: ['#'],\n",
       " 17: ['H'],\n",
       " 21: ['E'],\n",
       " 22: ['B'],\n",
       " 25: ['N'],\n",
       " 30: ['W'],\n",
       " 32: ['Q'],\n",
       " 38: ['R'],\n",
       " 45: ['A'],\n",
       " 46: ['%'],\n",
       " 48: ['K'],\n",
       " 51: ['q'],\n",
       " 54: ['8'],\n",
       " 57: ['F'],\n",
       " 58: ['m', '$'],\n",
       " 59: ['k', 'p', 'D'],\n",
       " 60: ['g'],\n",
       " 61: ['b'],\n",
       " 63: ['P', 'S'],\n",
       " 64: ['d', 'X'],\n",
       " 66: ['G'],\n",
       " 67: ['h'],\n",
       " 68: ['4'],\n",
       " 72: ['O'],\n",
       " 74: ['Z'],\n",
       " 77: ['0', 'T'],\n",
       " 78: ['a', 'w', 'Y'],\n",
       " 80: ['U'],\n",
       " 83: ['5'],\n",
       " 84: ['6'],\n",
       " 86: ['e', 'n'],\n",
       " 88: ['9'],\n",
       " 89: ['V'],\n",
       " 92: ['y'],\n",
       " 93: ['s'],\n",
       " 95: ['3'],\n",
       " 96: ['&'],\n",
       " 97: ['u', 'L'],\n",
       " 99: ['2'],\n",
       " 100: ['f'],\n",
       " 101: ['x', 'C'],\n",
       " 105: ['o'],\n",
       " 114: ['z'],\n",
       " 117: ['1', 'J'],\n",
       " 118: ['j'],\n",
       " 119: ['*'],\n",
       " 123: ['I'],\n",
       " 124: ['7'],\n",
       " 125: ['v', '['],\n",
       " 126: [']'],\n",
       " 128: ['c', '{'],\n",
       " 129: ['l'],\n",
       " 130: ['}'],\n",
       " 133: ['r'],\n",
       " 135: ['t'],\n",
       " 137: ['?'],\n",
       " 143: ['i'],\n",
       " 144: [')'],\n",
       " 146: ['\"'],\n",
       " 152: ['/'],\n",
       " 154: ['+'],\n",
       " 155: ['('],\n",
       " 157: ['>'],\n",
       " 158: ['!'],\n",
       " 159: ['\\\\'],\n",
       " 162: ['='],\n",
       " 172: ['<'],\n",
       " 178: ['|'],\n",
       " 186: ['_'],\n",
       " 194: [';'],\n",
       " 196: [':'],\n",
       " 198: [\"'\"],\n",
       " 200: ['-'],\n",
       " 203: ['~'],\n",
       " 209: [','],\n",
       " 211: ['^'],\n",
       " 221: ['.'],\n",
       " 235: ['`'],\n",
       " 253: [' ']}"
      ]
     },
     "execution_count": 226,
     "metadata": {},
     "output_type": "execute_result"
    }
   ],
   "source": [
    "fmap"
   ]
  },
  {
   "cell_type": "code",
   "execution_count": 244,
   "metadata": {},
   "outputs": [
    {
     "data": {
      "text/plain": [
       "<matplotlib.image.AxesImage at 0x7fa5cc8eddd8>"
      ]
     },
     "execution_count": 244,
     "metadata": {},
     "output_type": "execute_result"
    },
    {
     "data": {
      "image/png": "[encoded data removed]",
      "text/plain": [
       "<Figure size 432x288 with 1 Axes>"
      ]
     },
     "metadata": {
      "needs_background": "light"
     },
     "output_type": "display_data"
    }
   ],
   "source": [
    "im = Image.open('4.2.03.tiff')  # baboon from USC-SIPI db: http://sipi.usc.edu/database/database.php?volume=misc\n",
    "b = gs(np.asarray(im.resize((80,int(80*0.597615499)))))\n",
    "plt.imshow(b, cmap='gray')"
   ]
  },
  {
   "cell_type": "code",
   "execution_count": 242,
   "metadata": {},
   "outputs": [
    {
     "data": {
      "text/plain": [
       "(array([  6.,  19.,  35.,  75.,  85.,  99., 119., 164., 129., 169., 234.,\n",
       "        232., 275., 242., 272., 229., 219., 196., 172., 169., 185., 205.,\n",
       "        150.,  63.,  17.]),\n",
       " array([ 15.        ,  22.98666667,  30.97333333,  38.96      ,\n",
       "         46.94666667,  54.93333333,  62.92      ,  70.90666667,\n",
       "         78.89333333,  86.88      ,  94.86666667, 102.85333333,\n",
       "        110.84      , 118.82666667, 126.81333333, 134.8       ,\n",
       "        142.78666667, 150.77333333, 158.76      , 166.74666667,\n",
       "        174.73333333, 182.72      , 190.70666667, 198.69333333,\n",
       "        206.68      , 214.66666667]),\n",
       " <a list of 25 Patch objects>)"
      ]
     },
     "execution_count": 242,
     "metadata": {},
     "output_type": "execute_result"
    },
    {
     "data": {
      "image/png": "[encoded data removed]",
      "text/plain": [
       "<Figure size 432x288 with 1 Axes>"
      ]
     },
     "metadata": {
      "needs_background": "light"
     },
     "output_type": "display_data"
    }
   ],
   "source": [
    "plt.hist(b.ravel(), bins='auto')"
   ]
  },
  {
   "cell_type": "code",
   "execution_count": 229,
   "metadata": {},
   "outputs": [],
   "source": [
    "def find_nearest(img, vals):\n",
    "    final_shape = (*np.shape(img)[0:2], len(vals))\n",
    "    a = np.ones(final_shape) * np.reshape(np.array(vals), (1,1,len(vals)))\n",
    "    diff = np.repeat(img.reshape((*np.shape(img)[0:2], 1)), len(vals), 2) - a\n",
    "    idx = np.abs(diff).argmin(2)\n",
    "    return idx\n",
    "#     array = np.asarray(array)\n",
    "#     idx = (np.abs(array - value)).argmin()\n",
    "#     return array[idx]"
   ]
  },
  {
   "cell_type": "code",
   "execution_count": 230,
   "metadata": {},
   "outputs": [],
   "source": [
    "f = find_nearest(b, list(fmap.keys()))"
   ]
  },
  {
   "cell_type": "code",
   "execution_count": 231,
   "metadata": {},
   "outputs": [
    {
     "data": {
      "text/plain": [
       "(47, 80)"
      ]
     },
     "execution_count": 231,
     "metadata": {},
     "output_type": "execute_result"
    }
   ],
   "source": [
    "np.shape(f)"
   ]
  },
  {
   "cell_type": "code",
   "execution_count": 233,
   "metadata": {},
   "outputs": [
    {
     "data": {
      "text/plain": [
       "95"
      ]
     },
     "execution_count": 233,
     "metadata": {},
     "output_type": "execute_result"
    }
   ],
   "source": [
    "len(scaled_charmap.keys())"
   ]
  },
  {
   "cell_type": "code",
   "execution_count": 234,
   "metadata": {},
   "outputs": [],
   "source": [
    "txt = [''.join(map(lambda a: list(fmap.values())[a][0], row)) for row in f.astype(int)]"
   ]
  },
  {
   "cell_type": "code",
   "execution_count": 236,
   "metadata": {},
   "outputs": [
    {
     "name": "stdout",
     "output_type": "stream",
     "text": [
      "gVKK\"fd?%\\r}xo\\u_<y<Z/oK==<Z=*]1ZqraU+AfZ+<2ta=oizd)v9O&U|;|}e==\",=/_\"_u=9/xb=Zq\n",
      "xRb<\"xieo(d=oU=4\\e3~z0z+ZO7ReKbPzhuqh9dFZqyOo=iz4}rua/zf\"i?70z0*b=o-i*/=1u\"r|<]z\n",
      "AFf2d6&Z?zO)9\\&ue8xk13affsU?uqUs(\\>_yz06<|__,lx%Z\"}GO&OobeboGUGmVi*O/r><|';\\3!rO\n",
      "8od\\t<sr]a)Fcoq%ybPqKx0KgqqA0qGKF5283msRU\"UqbFP4d4OF8dhb5d%V%A8qd824z_u1It<}o641\n",
      "V4Vs2=\\\"ooy]}}oRVqFbZoKZARRqRWFRAAR8AmOa<oOARo\"0%oxfoj*<Nbz8&GG44xtsa79\\/_>_2m/a\n",
      "=27I2oc=z/-!i3c8RAR2G3AK218uae*R7_%RFKqqRGFOz*qWA3z*57o!Af_zxZo=}Zr~|jV}c+c|srzK\n",
      "tk\"joVrF|xoc/?=(kiz}}=RRfoju11qRQ8mAQRP8G0KciRAbA%yzcx\\RG?>o?]e7oz}x<=t<a|?OG&1i\n",
      "U)e\\?3ov_V|+<?+o1?Zr)ljolWWRBEBeKa_\"ARqRj=ti69jtiPdOiG4<<|\"4e]?Zoz1c|_|~!i:x=oyk\n",
      "/\"tcUz|437I1|oV\"09ruyIIh%y=u=<0Vv1dQA\"AiUZ3?4%oV<z_)}~^xF4O6=vU)?|}r|1z=+==i<4i/\n",
      "4ljzUzOu|=*?r\"<>|7KoOryFAFFzydzWghxs*aZ\\o&\"xmK><<__|_\"%GvvO*Z3Izx(i;ut*<|9_uO?sq\n",
      "1)Ix/_\"z/+o?hz?=|aV=6Azkbz<<<_|||rd=!K%_uo<dRF_,;;=\"\"(vUUAd5Goj?\\__z2z|7_i;=lo\\+\n",
      "buyP]o0*3Uo\"|&07<xKP5+5o/<|s|__:~1R5ra6_jx?/Z_,t;:___\\}iV6OeaoUOOtlz?|/=;!|>;_*v\n",
      "GOyOO1rI=8uZ?au\"R}gKx?>(&|<_<=':|/o/?so=vzii4~_;-;~=)||<|tj+ozuy];3;?oazo\"|oZ\\Vx\n",
      "2*}ZzoIj1o=_ofoPj<za88<_<o<|___,;zx>zoz?jz}</__;;;<;|_<1//91car=c1r|\"rc(,\"/vf/oV\n",
      "zrOOfi2?\\Zux}1d|O)/Vt9=_;|<;___;_j*?zo*lc1}ir__~'|___<=_||/rzi\"t<}>i\\_|_+1?=)}bZ\n",
      "j?j15e3xz\"f5=/V?tZ/O]=<<|:<_;_'|;oi?zji)Iz*\"<<'~|:;_||_=|<\"]v))|c!c<I/\"</l<(>5qu\n",
      "1ro)i]x\\ZOO<\"z)+*Z4qz_+<__;<_;;:;zt_zz/>7zz]i:~|:_;;_::;|+<royzi3=7:|\\*3<ue=ivxZ\n",
      "x9xUqIk/0f\"zet:h]*}R\"_|<<____-|_;1c]o*/irzz?\"'~-:'_____||=<\">xI16u1_o;j]c\\2\"cafZ\n",
      "oea3eP&zZ)5&jzx<<sqR!_;?<__;;::_|Iizo}=/lIzjt;___~';;;__+_<)xyf2r==?=;\"h=vy1xifs\n",
      "fzI]htr9zr8e|/r2RGu=/_'<}|;;_,-_|?rzz}\\<}]Izi:;;^:_;_;_)|;_xq64\"|\"/<<)}z<a3o9V\\0\n",
      "}zou5K8o<aK?Rc9zRyz+|<;;(__,__^;<i?zzc\"=t}]oc___:_;:;_)|_|<as&<4et*]=V\"2io29eoxo\n",
      "r5OG3mfGoZZKVUVR%08O<t<|;|;~__':=I?zco==(]1z(<_^_'~~')<-::?KP08\"z)I(t1yuxV4s/syI\n",
      "ozI7o09PxxUUV2hZ8bNB__=|_|_:~;|~<]ozz?|_}*Ijz|_~_-'~|\"_;_|r3oVlxso2ij|VVeauZv4ea\n",
      "i1c?/c0=*VOR2oNPUqo#<|\"|;;|__;<~|zzzo\"|_|*1z]_;<_~~_|''__\"1z5txam5gOu26\"VozuyO6u\n",
      "i>)/z\"u]1x4KbWAy8Aq#F=_i_:|<;_|;_z1z1I;_/rz7-_~|';;>;~_;<=FquF?2?77VZo4yxo425VOU\n",
      "\"?/i_//(zFRRAbjBmQWkz\"<+_~_<,:;>;<*zo/]]>o}j~;:_~~|;,;;__}%UZu55y=ouo8za05e5ZO5y\n",
      "???}+/tsu*UqR%40qAkEW=|_i|,<=|-|~|rzx*\\|tzz_<_=;:;<_:;_;<AWAVPayz1o&z]7uebVs1&dP\n",
      "!i/it?7s=egq8%RFxgAWQUz||_||i~,<_;*oo}]<7}1-;\";__i_~_|i<oRd8FZ2z}9io4ZfUZzzZ06u5\n",
      "\\t+)+zI*o5eAoW%Q5mGQzW+t<o_=*_|<?_1xzl=<1zo=:f;~|1'__?\"co4+%qOkUsm=94yPz2oz94Z0e\n",
      "<=?]7*\"}zxA0axbRUgbQkZ]\\i|O/rI___i1zzi(r}Ir<;!~_1)<|I|y\"/VukueKu?dxydeo&uy2zUueG\n",
      "i?!\"/!r?\"P8kKiRQRF||9%V?/i\\|;t|;?}1I1}?IIl]\"U';?+=;l>F<6zco4ux8Ozs56UOGy&zos0oxU\n",
      "/<>\\!>=\"I*OW82d:o;ZhbR6]OZr<_|]*lzzIc\"/)/rI]}__?|\"o|o(kc:8u38qZIjo0OO4eV7yao&&f5\n",
      "+=\\\\<+=rxzIQA__=~xzA3%zz?oIit}c*1*t}it?}?Ic}t}7I*tzr\\]rtA5Vt~s=i<fUex\\6hssoyz2*u\n",
      "\"=\\===t?l7om6}i==i]2Qozzx1jzor/=+>il()tlr*?|_=))?louvi?+/<\"2O611rIx=U_c4zZ4ou}sf\n",
      "\\===\\=(}r4sz]u=_,_oyR|i9yIz]\"jhq]/>!<|><//tOm5z}*lIo7i|?im0_e=\"Oxt?loxz?0Iooz2rI\n",
      "\\==//=\"ioy9/ea\"|=_-/BRV=r**rr]\"?&y\"I}+tiiet+r)\"?11zzl|2rz8V!6eVr\"Il]o*OU&&**zj?I\n",
      "<==//\"\"ro0zt]|xoc}+}}ZxK9z*r\"i>7?cu\"c7riI)/}tv*]1*]orrGAi=z<h<b\"/|i*+rzof\"z7r**)\n",
      "/+\\\\\\+>itj}u]oz/'_='\"*-i]xl**c*7?)l}i\"tI/!ir}}}j1*>;d==f_A*\"_(r|(=_=<1=zooozci\"?\n",
      ">\\></(r\"rz)2o]+roots;|_|60<x*oo1Iz1z/I}1z1?tc?*1r1<|VazU|x/:=95\"::<}_]7ouo}?l}??\n",
      "\\<<==>)t/+*v)xcz<+'r__0<|\"?oczzzr\"1it7}*1*zv](?1_ozz~]zv></:<;=<\"\\=i}\"7o1oj]c}})\n",
      "=<)=\"\"//rzIc*Zoou-II\"(<?b\\,<;?I<c?tzro/1?1zI*/*uVf;~_!=|4G~t|o=\"]fuI7ozojo**\"7\"*\n",
      "=|(=!*\")\"})*i?f?\"*<r\"t<<:y_,_~t-<<|_;<_\\-<<z_><ii|)o(_z:xFO\"9vI\"/(z/izzooo]zr?t/\n",
      "=ii>\">t/I?i]t2oos;yz?|\"_7y<(V_io||ir_<<<:7~=j;r:?;/\"eehF~O6t<?=|)ijz*xoooz?j]llo\n",
      "<I=t)(?(?\"vIrjuxIi=ii;<~_\"<|=I;27<*ri</_\"t=+zz_}r3_U<x|<0\"?l*!zxoVozooooz*Ilcvjv\n",
      "\"\"?)l/)/<\"}/r\"u}a&3l*c'__<;;_\\|=)<yo}(1iozvz_uo}o;\"Uzz=<)_I\"zfoi1oxoso5VI12jzjzI\n",
      "Il)i=+=>z\"+???]20x1yaxr}_||\"\\;<__||:_;<>|\\\\<=__<<<<|=_/|?\"2>15uztzzo9oy5o}oVzsaO\n",
      "\"?\\)\"\")\\=r(I=*j2ao9zs1)1><|_<=;_<_<;|<><|<=|_|_<|<||=<=|(?zojy4OO8Z2daxIU*z04&Vy\n",
      "\n"
     ]
    }
   ],
   "source": [
    "print('\\n'.join(txt)+'\\n')"
   ]
  },
  {
   "cell_type": "code",
   "execution_count": 238,
   "metadata": {},
   "outputs": [],
   "source": [
    "with open('baboon.txt', 'w') as f:\n",
    "    f.write('\\n'.join(txt)+'\\n')"
   ]
  },
  {
   "cell_type": "code",
   "execution_count": null,
   "metadata": {},
   "outputs": [],
   "source": [
    "mapc = lambda i: list(fmap.values())[a][1]\n",
    "\n",
    "for row in f:\n",
    "    for item in row:\n",
    "        "
   ]
  }
 ],
 "metadata": {
  "kernelspec": {
   "display_name": "Python 3",
   "language": "python",
   "name": "python3"
  },
  "language_info": {
   "codemirror_mode": {
    "name": "ipython",
    "version": 3
   },
   "file_extension": ".py",
   "mimetype": "text/x-python",
   "name": "python",
   "nbconvert_exporter": "python",
   "pygments_lexer": "ipython3",
   "version": "3.7.2"
  }
 },
 "nbformat": 4,
 "nbformat_minor": 2
}
